{
 "cells": [
  {
   "cell_type": "markdown",
   "metadata": {},
   "source": [
    "## Demo for SDK\n",
    "\n",
    "This example shows how to use SDK to deploy a task. The demo notebook includes the following steps:\n",
    "\n",
    "- [Getting Started](#Getting-Started)\n",
    "    - [initialization](#initialization)\n",
    "    - [show available hardware info list](#show-available-hardware-information)\n",
    "    - [choose hardware config](#Set-default-hardware-config-(Optional))\n",
    "- [Creating And Deploying Task](#Creating-And-Deploying-Task)\n",
    "    - [estimate payment amount](#estimate-payment-amount-optional)\n",
    "    - [Auto Pay Path](#Auto-Pay-Path)\n",
    "        - [create task with auto_pay](#Create-task-(auto_pay))\n",
    "        - [renew task with auto-pay](#renew-task-auto-pay-optional)\n",
    "    - [No Auto Pay Path](#No-Auto-Pay-Path)\n",
    "        - [create task with no auto_pay to get `task_uuid`](#Create-task-(No-auto_pay))\n",
    "        - [make payment](#make-payment-(Optional))\n",
    "        - [validate payment](#validate-payment-to-deploy-task)\n",
    "        - [renew task](#renew-task-(no-auto-pay)-optional)\n",
    "    - [terminate task](#terminate-task-optional)\n",
    "    - [claim review](#claim-review-optional)\n",
    "- [View Deployed Task Results](#View-Deployed-Task-Results)\n",
    "    - [follow up task status](#follow-up-task-status-optional)\n",
    "    - [show result](#show-result)\n"
   ]
  },
  {
   "cell_type": "markdown",
   "metadata": {},
   "source": [
    "# Getting Started"
   ]
  },
  {
   "cell_type": "markdown",
   "metadata": {},
   "source": [
    "\n",
    "### Initialization\n",
    "\n",
    "#### get an `API_KEY`\n",
    "\n",
    "- For test version, get `API_KEY` in dashboard page: https://orchestrator-test.swanchain.io\n",
    "- For prod version, get `API_KEY` in dashboard page: https://orchestrator.swanchain.io\n",
    "\n",
    "If use this repository to test on your local machine, add `sys.path.insert(0, '..')` at the beginning, and run code in the root directory of this repository.\n",
    "\n",
    "To use this SDK, you need to add environment file `.env` in your local directory, including the following parameters (`PK` is private key):\n",
    "\n",
    "```\n",
    "API_KEY=\n",
    "WALLET=\n",
    "PK=\n",
    "```"
   ]
  },
  {
   "cell_type": "code",
   "execution_count": 1,
   "metadata": {},
   "outputs": [],
   "source": [
    "import sys\n",
    "sys.path.insert(0, '..') \n",
    "\n",
    "import os\n",
    "import time\n",
    "import dotenv\n",
    "import json\n",
    "dotenv.load_dotenv()\n",
    "\n",
    "import swan\n",
    "\n",
    "wallet_address = os.getenv('WALLET')\n",
    "private_key = os.getenv('PK')\n",
    "api_key = os.getenv('API_KEY')\n",
    "swan_orchestrator = swan.resource(api_key=api_key, service_name='Orchestrator')"
   ]
  },
  {
   "cell_type": "code",
   "execution_count": 2,
   "metadata": {},
   "outputs": [
    {
     "name": "stdout",
     "output_type": "stream",
     "text": [
      "{\n",
      "  \"client_contract_address\": \"0x20a67c6Bea000fAf0BE862BB254F092abF0E5b98\",\n",
      "  \"payment_contract_address\": \"0x5094A609Af5184d076Be2DF741820732126b4Fd2\",\n",
      "  \"rpc_url\": \"https://rpc-atom-internal.swanchain.io\",\n",
      "  \"swan_token_contract_address\": \"0x91B25A65b295F0405552A4bbB77879ab5e38166c\"\n",
      "}\n"
     ]
    }
   ],
   "source": [
    "r = swan_orchestrator.contract_info\n",
    "print(json.dumps(r, indent=2))"
   ]
  },
  {
   "cell_type": "markdown",
   "metadata": {},
   "source": [
    "### Show available hardware information"
   ]
  },
  {
   "cell_type": "code",
   "execution_count": 3,
   "metadata": {},
   "outputs": [
    {
     "name": "stdout",
     "output_type": "stream",
     "text": [
      "[{'id': 0, 'name': 'C1ae.small', 'description': 'CPU only · 2 vCPU · 2 GiB', 'type': 'CPU', 'region': ['Virginia-US', 'Quebec-CA', 'Kwai Tsing-HK', 'Guangdong-CN', 'Utah-US', 'North Holland-NL', 'Washington-US', 'Bavaria-DE', 'North West-SG', 'Kowloon-HK', 'Ōsaka-JP', 'Texas-US', 'Tokyo-JP', 'Sichuan-CN', 'Missouri-US', 'Central Singapore-SG', 'Saxony-DE', 'Central and Western-HK', 'Bashkortostan Republic-RU', 'Kowloon City-HK', 'North Rhine-Westphalia-DE', 'Kuala Lumpur-MY', 'Jakarta-ID', 'North Carolina-US', 'Metro Manila-PH', 'Bangkok-TH', 'Seoul-KR'], 'price': '0.0', 'status': 'available'}, {'id': 1, 'name': 'C1ae.medium', 'description': 'CPU only · 4 vCPU · 4 GiB', 'type': 'CPU', 'region': ['Virginia-US', 'Quebec-CA', 'Kwai Tsing-HK', 'Guangdong-CN', 'North Holland-NL', 'North West-SG', 'Kowloon-HK', 'Ōsaka-JP', 'Texas-US', 'Washington-US', 'Tokyo-JP', 'Sichuan-CN', 'Missouri-US', 'Central Singapore-SG', 'Saxony-DE', 'Central and Western-HK', 'Bashkortostan Republic-RU', 'Kowloon City-HK', 'North Rhine-Westphalia-DE', 'Kuala Lumpur-MY', 'Jakarta-ID', 'North Carolina-US', 'Seoul-KR'], 'price': '1.0', 'status': 'available'}, {'id': 6, 'name': 'M1ae.2xlarge', 'description': 'Nvidia 2080 Ti · 4 vCPU · 8 GiB', 'type': 'GPU', 'region': ['Virginia-US', 'Kowloon-HK'], 'price': '6.0', 'status': 'available'}, {'id': 7, 'name': 'M1ae.3xlarge', 'description': 'Nvidia 2080 Ti · 8 vCPU · 16 GiB', 'type': 'GPU', 'region': ['Virginia-US', 'Kowloon-HK'], 'price': '6.5', 'status': 'available'}, {'id': 12, 'name': 'G1ae.small', 'description': 'Nvidia 3080 · 4 vCPU · 8 GiB', 'type': 'GPU', 'region': ['Quebec-CA', 'Guangdong-CN', 'Virginia-US', 'Kowloon-HK', 'Texas-US', 'Tokyo-JP', 'Sichuan-CN', 'Kowloon City-HK'], 'price': '10.0', 'status': 'available'}, {'id': 13, 'name': 'G1ae.medium', 'description': 'Nvidia 3080 · 8 vCPU · 16 GiB', 'type': 'GPU', 'region': ['Quebec-CA', 'Guangdong-CN', 'Virginia-US', 'Kowloon-HK', 'Texas-US', 'Tokyo-JP', 'Sichuan-CN', 'Kowloon City-HK'], 'price': '11.0', 'status': 'available'}, {'id': 20, 'name': 'Hpc1ae.small', 'description': 'Nvidia 3090 · 4 vCPU · 8 GiB', 'type': 'GPU', 'region': ['Virginia-US', 'North West-SG', 'Kowloon-HK'], 'price': '14.0', 'status': 'available'}, {'id': 21, 'name': 'Hpc1ae.medium', 'description': 'Nvidia 3090 · 8 vCPU · 16 GiB', 'type': 'GPU', 'region': ['Virginia-US', 'North West-SG', 'Kowloon-HK'], 'price': '16.0', 'status': 'available'}, {'id': 24, 'name': 'Hpc1ae.2xlarge', 'description': 'NVIDIA A4000 · 4 vCPU · 8 GiB', 'type': 'AI GPU', 'region': ['Virginia-US'], 'price': '21.0', 'status': 'available'}, {'id': 25, 'name': 'Hpc1ae.3xlarge', 'description': 'NVIDIA A4000 · 8 vCPU · 16 GiB', 'type': 'AI GPU', 'region': ['Virginia-US'], 'price': '21.0', 'status': 'available'}, {'id': 27, 'name': 'T1ae.medium', 'description': 'Nvidia 2080 Ti · 12 vCPU · 64 GiB', 'type': 'GPU', 'region': ['Virginia-US', 'Kowloon-HK'], 'price': '36.0', 'status': 'available'}, {'id': 32, 'name': 'Hpc2ae.small', 'description': 'Nvidia 4090 · 4 vCPU · 8 GiB', 'type': 'AI GPU', 'region': ['Bashkortostan Republic-RU', 'Jakarta-ID'], 'price': '22.0', 'status': 'available'}, {'id': 33, 'name': 'Hpc2ae.medium', 'description': 'Nvidia 4090 · 8 vCPU · 16 GiB', 'type': 'AI GPU', 'region': ['Bashkortostan Republic-RU', 'Jakarta-ID'], 'price': '24.0', 'status': 'available'}, {'id': 42, 'name': 'T1az.2xlarge', 'description': 'Nvidia 4090 · 8 vCPU · 64 GiB', 'type': 'AI GPU', 'region': ['Bashkortostan Republic-RU', 'Jakarta-ID'], 'price': '60.0', 'status': 'available'}, {'id': 44, 'name': 'T1az.4xlarge', 'description': 'Nvidia A4000 · 8 vCPU · 64 GiB', 'type': 'AI GPU', 'region': ['Virginia-US'], 'price': '65.0', 'status': 'available'}, {'id': 47, 'name': 'T1az.7xlarge', 'description': 'Nvidia L40s · 8 vCPU · 64 GiB', 'type': 'AI GPU', 'region': ['North Carolina-US'], 'price': '72.0', 'status': 'available'}, {'id': 55, 'name': 'T2az.4xlarge', 'description': 'Nvidia A4000 · 12 vCPU · 128 GiB', 'type': 'AI GPU', 'region': ['Virginia-US'], 'price': '75.0', 'status': 'available'}, {'id': 58, 'name': 'T2az.7xlarge', 'description': 'Nvidia L40s · 12 vCPU · 128 GiB', 'type': 'AI GPU', 'region': ['North Carolina-US'], 'price': '82.0', 'status': 'available'}, {'id': 72, 'name': 'R1ae.small', 'description': 'Nvidia 2080 TI · 8 vCPU · 32 GiB', 'type': 'GPU', 'region': ['Virginia-US', 'Kowloon-HK'], 'price': '12.0', 'status': 'available'}, {'id': 73, 'name': 'R1ae.medium', 'description': 'Nvidia 3080 · 8 vCPU · 32 GiB', 'type': 'GPU', 'region': ['Quebec-CA', 'Guangdong-CN', 'Virginia-US', 'Texas-US', 'Tokyo-JP', 'Sichuan-CN', 'Kowloon City-HK'], 'price': '22.0', 'status': 'available'}, {'id': 74, 'name': 'R1ae.large', 'description': 'Nvidia 3090 · 8 vCPU · 32 GiB', 'type': 'GPU', 'region': ['Virginia-US', 'North West-SG', 'Kowloon-HK'], 'price': '30.0', 'status': 'available'}, {'id': 77, 'name': 'R2ae.large', 'description': 'Nvidia 4090 · 8 vCPU · 32 GiB', 'type': 'AI GPU', 'region': ['Bashkortostan Republic-RU', 'Jakarta-ID'], 'price': '50.0', 'status': 'available'}, {'id': 78, 'name': 'R2ae.xlarge', 'description': 'Nvidia A4000 · 8 vCPU · 32 GiB', 'type': 'AI GPU', 'region': ['Virginia-US'], 'price': '52.0', 'status': 'available'}]\n"
     ]
    }
   ],
   "source": [
    "hardwares_info = swan_orchestrator.get_hardware_config()\n",
    "print(hardwares_info)\n",
    "hardware_id = 0 # 'C1ae.medium'\n",
    "region = 'global'"
   ]
  },
  {
   "cell_type": "markdown",
   "metadata": {},
   "source": [
    "### Set default hardware config (Optional)\n",
    "\n",
    "choose a default hardware with its hardware id and region. Set default `hardware_id` and `region` will be used in the steps to deploy task if not provided as parameters in future functions"
   ]
  },
  {
   "cell_type": "code",
   "execution_count": 4,
   "metadata": {},
   "outputs": [
    {
     "name": "stdout",
     "output_type": "stream",
     "text": [
      "Successfully set up default task configuration\n"
     ]
    }
   ],
   "source": [
    "hardware_id = 0 # 'C1ae.medium'\n",
    "region = 'global'\n",
    "if swan_orchestrator.set_default_task_config(hardware_id, region):\n",
    "    print(\"Successfully set up default task configuration\")"
   ]
  },
  {
   "cell_type": "markdown",
   "metadata": {},
   "source": [
    "# Creating And Deploying Task"
   ]
  },
  {
   "cell_type": "markdown",
   "metadata": {},
   "source": [
    "### Estimate Payment amount (Optional)\n",
    "\n",
    "Estimate the cost of deploying the task on specified hardware for duration (in seconds)"
   ]
  },
  {
   "cell_type": "code",
   "execution_count": 5,
   "metadata": {},
   "outputs": [
    {
     "name": "stdout",
     "output_type": "stream",
     "text": [
      "0\n"
     ]
    }
   ],
   "source": [
    "duration = 3600 # 1 hour or 3600 seconds\n",
    "\n",
    "amount = swan_orchestrator.estimate_payment(\n",
    "    duration=duration, # Optional: Defaults to 3600 seconds or 1 hour\n",
    "    hardware_id=hardware_id, # Optional: Defaults to hardware_id set in set_default_task_config or 0 (free) if not set\n",
    ")\n",
    "\n",
    "print(amount)"
   ]
  },
  {
   "cell_type": "markdown",
   "metadata": {},
   "source": [
    "## Auto Pay Path"
   ]
  },
  {
   "cell_type": "markdown",
   "metadata": {},
   "source": [
    "### Create task (auto_pay)\n",
    "\n",
    "This step creates, pays and deploys task. It also gets `task_uuid`, which is useful in task info steps.\n",
    "\n",
    "`wallet_address` is mandatory. `job_source_uri` is mandatory in this demo, please check out example-demo-prebuilt-image if deploying prebuilt images with `image_name`.\n",
    "\n",
    "In this section, `private_key` is mandatory. If you do not want to use `private_key` and pay through SDK, please check out [create task with no auto_pay](#Create-task-(No-auto_pay))\n",
    "\n",
    "`job_source_uri` is repository url of code to be deployed, must contain a must contain a dockerfile or deploy.yaml file"
   ]
  },
  {
   "cell_type": "code",
   "execution_count": 6,
   "metadata": {},
   "outputs": [
    {
     "name": "stdout",
     "output_type": "stream",
     "text": [
      "{\n",
      "  \"data\": {\n",
      "    \"task\": {\n",
      "      \"comments\": null,\n",
      "      \"created_at\": 1719612537,\n",
      "      \"end_at\": 1719616137,\n",
      "      \"id\": 26645,\n",
      "      \"leading_job_id\": null,\n",
      "      \"refund_amount\": null,\n",
      "      \"refund_wallet\": \"0x662aC7c5BA4193744224ee507298b4e5f92D6fDd\",\n",
      "      \"source\": \"v2\",\n",
      "      \"start_at\": 1719612537,\n",
      "      \"start_in\": 300,\n",
      "      \"status\": \"created\",\n",
      "      \"task_detail\": {\n",
      "        \"amount\": 0.0,\n",
      "        \"bidder_limit\": 3,\n",
      "        \"created_at\": 1719612537,\n",
      "        \"duration\": 3600,\n",
      "        \"end_at\": 1719616137,\n",
      "        \"hardware\": \"C1ae.small\",\n",
      "        \"job_result_uri\": null,\n",
      "        \"job_source_uri\": \"https://data.mcs.lagrangedao.org/ipfs/QmacTTg9nYycQKHov2AgnLhqFEErT4wZB1pmEWfYowxYvm\",\n",
      "        \"price_per_hour\": \"0.0\",\n",
      "        \"requirements\": {\n",
      "          \"hardware\": \"None\",\n",
      "          \"hardware_type\": \"CPU\",\n",
      "          \"memory\": \"2\",\n",
      "          \"region\": \"global\",\n",
      "          \"vcpu\": \"2\"\n",
      "        },\n",
      "        \"start_at\": 1719612537,\n",
      "        \"status\": \"paid\",\n",
      "        \"storage_source\": \"swanhub\",\n",
      "        \"type\": \"instance\",\n",
      "        \"updated_at\": 1719612537\n",
      "      },\n",
      "      \"task_detail_cid\": \"https://data.mcs.lagrangedao.org/ipfs/QmQBiBB4sr8r4hZMB2RDcDQtUMxc8nYMV9EeWX5qi7ioJJ\",\n",
      "      \"tx_hash\": null,\n",
      "      \"type\": null,\n",
      "      \"updated_at\": 1719612547,\n",
      "      \"user_id\": 1986,\n",
      "      \"uuid\": \"680ff6df-a377-451e-a91a-c68973fcd5de\"\n",
      "    }\n",
      "  },\n",
      "  \"message\": \"Task payment validated successfully.\",\n",
      "  \"status\": \"success\",\n",
      "  \"tx_hash\": \"0xd8a80a85c92961e1a806439eebeeeec32aead5dde0f906f5a4a4ed5df52633e1\",\n",
      "  \"id\": \"680ff6df-a377-451e-a91a-c68973fcd5de\"\n",
      "}\n"
     ]
    }
   ],
   "source": [
    "# job_source_uri = '<github repository url of code to be deployed>'\n",
    "\n",
    "# Demo example: uncomment to use\n",
    "job_source_uri = 'https://github.com/alphaflows/tetris-docker-image.git'\n",
    "\n",
    "result = swan_orchestrator.create_task(\n",
    "    wallet_address=wallet_address,\n",
    "    job_source_uri=job_source_uri,\n",
    "    auto_pay=True, # Optional: Defaults to false, but in this section's path, set to True\n",
    "    private_key=private_key,\n",
    "    hardware_id=0, # Optional: Defaults to hardware_id set in set_default_task_config or 0 (free) if not set\n",
    "    region='global', # Optional: Defaults to region set in set_default_task_config or global if not set\n",
    "    duration=duration, # Optional: Defaults to 3600 seconds\n",
    ")\n",
    "\n",
    "print(json.dumps(result, indent=2))\n",
    "\n",
    "# Store the task_uuid of created task\n",
    "task_uuid = result['id']"
   ]
  },
  {
   "cell_type": "markdown",
   "metadata": {},
   "source": [
    "### renew task (auto-pay) (optional)\n",
    "\n",
    "Extend `task_uuid` by `duration`. Using auto pay automatically makes a transaction to SWAN contract and extends the task."
   ]
  },
  {
   "cell_type": "code",
   "execution_count": 7,
   "metadata": {},
   "outputs": [
    {
     "name": "stdout",
     "output_type": "stream",
     "text": [
      "successfully renewed task\n"
     ]
    }
   ],
   "source": [
    "renew_task = swan_orchestrator.renew_task(\n",
    "    task_uuid=task_uuid, \n",
    "    duration=60, # Optional: Defaults to 3600 seconds (1 hour)\n",
    "    auto_pay=True, # Optional: Defaults to False, in this demo path set to True\n",
    "    private_key=private_key,\n",
    "    hardware_id=hardware_id # Optional: Defaults to hardware_id set in set_default_task_config or 0 (free) if not set\n",
    ")\n",
    "\n",
    "if renew_task and renew_task['status'] == 'success':\n",
    "    print(f\"successfully renewed task\")"
   ]
  },
  {
   "cell_type": "markdown",
   "metadata": {},
   "source": [
    "If completed steps above, please go to [View Deployed Task Results](#View-Deployed-Task-Results) to view results, or [terminate task](#terminate-task) for more functions related to tasks"
   ]
  },
  {
   "cell_type": "markdown",
   "metadata": {},
   "source": [
    "## No Auto Pay Path"
   ]
  },
  {
   "cell_type": "markdown",
   "metadata": {},
   "source": [
    "### Create task (No auto_pay)\n",
    "\n",
    "This creates task, but does not pay or deploy task. It gets `task_uuid`, which is useful in payment steps.\n",
    "\n",
    "`wallet_address` is mandatory. `job_source_uri` is mandatory in this demo, please check out example-demo-prebuilt-image if deploying prebuilt images.\n",
    "\n",
    "`job_source_uri` is repository url of code to be deployed, must contain a must contain a dockerfile or deploy.yaml file"
   ]
  },
  {
   "cell_type": "code",
   "execution_count": null,
   "metadata": {},
   "outputs": [],
   "source": [
    "# job_source_uri = '<github repository url of code to be deployed>'\n",
    "\n",
    "# Demo example: uncomment to use\n",
    "job_source_uri = 'https://github.com/alphaflows/tetris-docker-image.git'\n",
    "\n",
    "result = swan_orchestrator.create_task(\n",
    "    wallet_address=wallet_address,\n",
    "    job_source_uri=job_source_uri,\n",
    "    hardware_id=hardware_id, # Optional: Defaults to hardware_id set in set_default_task_config or 0 (free) if not set\n",
    "    region='global', # Optional: Defaults to region set in set_default_task_config or global if not set\n",
    "    duration=duration, # Optional: Defaults to 3600 seconds\n",
    "    auto_pay=False, # Optional: Defaults to false\n",
    ")\n",
    "\n",
    "print(json.dumps(result, indent=2))\n",
    "\n",
    "# Store the task_uuid of created task\n",
    "task_uuid = result['id']"
   ]
  },
  {
   "cell_type": "markdown",
   "metadata": {},
   "source": [
    "### Make Payment (Optional)\n",
    "\n",
    "This step is using `task_uuid`, `private_key`,  `duration`, and `hardware_id` to submit payment and make task eligible for assigning if payment successful via swan SDK. `task_uuid`, `private_key` are mandatory.\n",
    "\n",
    "If following this section, please skip to - [View Deployed Task Results](#View-Deployed-Task-Results) next.\n",
    "If do not want to submit payment with swan SDK, and directly made payment to swan contract instead, please move onto next section."
   ]
  },
  {
   "cell_type": "code",
   "execution_count": null,
   "metadata": {},
   "outputs": [],
   "source": [
    "if result_validation := swan_orchestrator.make_payment(\n",
    "    task_uuid=task_uuid, \n",
    "    private_key=private_key,\n",
    "    duration=3600, # Optional: Defaults to 3600 seconds (1 hour)\n",
    "    hardware_id=0 # Optional: Defaults to hardware_id set in set_default_task_config or 0 (free) if not set\n",
    "):\n",
    "    print(json.dumps(result_validation, indent=2))\n",
    "else:\n",
    "    print('validation failed')"
   ]
  },
  {
   "cell_type": "markdown",
   "metadata": {},
   "source": [
    "### Validate Payment to deploy task\n",
    "\n",
    "Only use this if paid directly to contract. If used make_payment section above, ignore this section.\n",
    "\n",
    "This step will use `tx_hash` and `task_uuid` to validate the payment and then make task eligible for assigning if validation successful"
   ]
  },
  {
   "cell_type": "markdown",
   "metadata": {},
   "source": [
    "Will Delete the submit_payment code block below in final version"
   ]
  },
  {
   "cell_type": "code",
   "execution_count": null,
   "metadata": {},
   "outputs": [],
   "source": [
    "if result_validation := swan_orchestrator.validate_payment(\n",
    "    tx_hash=\"<tx_hash of payment of task_uuid to swan contract>\",\n",
    "    task_uuid=task_uuid\n",
    "):\n",
    "    print(json.dumps(result_validation, indent=2))\n",
    "else:\n",
    "    print('validation failed')"
   ]
  },
  {
   "cell_type": "markdown",
   "metadata": {},
   "source": [
    "### Renew Task (no auto-pay) (Optional)\n",
    "\n",
    "Extend `task_uuid` by `duration`. `tx_hash` of payment for extension required."
   ]
  },
  {
   "cell_type": "markdown",
   "metadata": {},
   "source": [
    "Will Delete the submit_payment code block below in final version"
   ]
  },
  {
   "cell_type": "code",
   "execution_count": null,
   "metadata": {},
   "outputs": [],
   "source": [
    "renew_task = swan_orchestrator.renew_task(\n",
    "    task_uuid=task_uuid, \n",
    "    duration=60, # Optional: Defaults to 3600 seconds (1 hour)\n",
    "    tx_hash=\"<tx_hash of payment of task_uuid to swan contract>\", # tx_hash of payment to swan contract for this task\n",
    "    hardware_id=hardware_id # Optional: Defaults to hardware_id set in set_default_task_config or 0 (free) if not set\n",
    ")\n",
    "\n",
    "if renew_task and renew_task['status'] == 'success':\n",
    "    print(f\"successfully renewed {task_uuid}\")\n",
    "else:\n",
    "    print(f\"Unable to renew {task_uuid}\")"
   ]
  },
  {
   "cell_type": "markdown",
   "metadata": {},
   "source": [
    "### terminate task (Optional)\n",
    "\n",
    "Terminate the task `task_uuid` and get a refund for remaining time"
   ]
  },
  {
   "cell_type": "code",
   "execution_count": null,
   "metadata": {},
   "outputs": [],
   "source": [
    "terminate_status = swan_orchestrator.terminate_task(task_uuid)\n",
    "if terminate_status['status'] == 'success':\n",
    "    print(f\"Terminated {task_uuid} successfully\")\n",
    "else:\n",
    "    print(f\"Failed to terminate {task_uuid}\")"
   ]
  },
  {
   "cell_type": "markdown",
   "metadata": {},
   "source": [
    "### claim review (Optional)\n",
    "\n",
    "Review if `task_uui` uptime is above 90% and give refund if below 90%"
   ]
  },
  {
   "cell_type": "code",
   "execution_count": null,
   "metadata": {},
   "outputs": [],
   "source": [
    "claim_review = swan_orchestrator.claim_review(task_uuid)\n",
    "print(claim_review)"
   ]
  },
  {
   "cell_type": "markdown",
   "metadata": {},
   "source": [
    "## View Deployed Task Results"
   ]
  },
  {
   "cell_type": "markdown",
   "metadata": {},
   "source": [
    "### follow up task status (optional)\n",
    "The following step is optional, shows information when waiting for task being deployed."
   ]
  },
  {
   "cell_type": "code",
   "execution_count": 8,
   "metadata": {},
   "outputs": [
    {
     "name": "stdout",
     "output_type": "stream",
     "text": [
      "{\n",
      "  \"data\": {\n",
      "    \"computing_providers\": [\n",
      "      {\n",
      "        \"beneficiary\": \"0x2c03538AEeD876198d8f376F3556857d1B118AbC\",\n",
      "        \"cp_account_address\": \"0x3eFb0f95bB5a1Eb3c9868e9c535C6aBf19dD2876\",\n",
      "        \"created_at\": 1718266434,\n",
      "        \"id\": 66,\n",
      "        \"lat\": 22.3193,\n",
      "        \"lon\": 114.169,\n",
      "        \"multi_address\": [\n",
      "          \"/ip4/103.201.24.47/tcp/8091\"\n",
      "        ],\n",
      "        \"node_id\": \"04e0961444d2f1856f6ebccf3b02f855bde584a9a5bb72fa60ab5ec8418a0a200236d2673acd025093eba0fb8f7c7ebbaceab433b0343181eca93d5e8d7d7466d9\",\n",
      "        \"online\": 1,\n",
      "        \"owner_address\": \"0x2c03538AEeD876198d8f376F3556857d1B118AbC\",\n",
      "        \"region\": \"Kowloon-HK\",\n",
      "        \"task_types\": \"[1, 2, 3, 4]\",\n",
      "        \"updated_at\": 1719612153,\n",
      "        \"version\": \"2.0\",\n",
      "        \"worker_address\": \"0x2c03538AEeD876198d8f376F3556857d1B118AbC\"\n",
      "      },\n",
      "      {\n",
      "        \"beneficiary\": \"0x8c68475E62B21d42B8a35206658F2B0f0a165174\",\n",
      "        \"cp_account_address\": \"0x49992952342e848d2048B09b85E877e6d39Ee869\",\n",
      "        \"created_at\": 1718255094,\n",
      "        \"id\": 14,\n",
      "        \"lat\": 22.3668,\n",
      "        \"lon\": 114.13,\n",
      "        \"multi_address\": [\n",
      "          \"/ip4/160.20.59.167/tcp/8085\"\n",
      "        ],\n",
      "        \"node_id\": \"044b5ee3a179cc0f3ceacafabec2cdc35b635ad47768a4e06ecc1746d204f6cfe1a3e5cfed33111e33de4f1a3ca9ed03a4a5fb411aa98e0def8857e954d1b561f8\",\n",
      "        \"online\": 1,\n",
      "        \"owner_address\": \"0x8c68475E62B21d42B8a35206658F2B0f0a165174\",\n",
      "        \"region\": \"Kwai Tsing-HK\",\n",
      "        \"task_types\": \"[3]\",\n",
      "        \"updated_at\": 1719612068,\n",
      "        \"version\": \"2.0\",\n",
      "        \"worker_address\": \"0x8c68475E62B21d42B8a35206658F2B0f0a165174\"\n",
      "      },\n",
      "      {\n",
      "        \"beneficiary\": \"0x675d7Fe3a7b9C15f6F09fd3b48B6AAc1a708a0fe\",\n",
      "        \"cp_account_address\": \"0xAe1b62e7a3F11a79f3CDA3c681f3460E5850742F\",\n",
      "        \"created_at\": 1718852929,\n",
      "        \"id\": 1763,\n",
      "        \"lat\": 22.2944,\n",
      "        \"lon\": 114.16,\n",
      "        \"multi_address\": [\n",
      "          \"/ip4/162.219.87.212/tcp/9085\"\n",
      "        ],\n",
      "        \"node_id\": \"041e28ae229d694af482f83aa5219c78d13f5cdd8d1076bb99284e7a33c6e4533803779427091b314dc0d3fe667117cf38deb1bb01bcda380f3eec4476c93e7016\",\n",
      "        \"online\": 1,\n",
      "        \"owner_address\": \"0x675d7Fe3a7b9C15f6F09fd3b48B6AAc1a708a0fe\",\n",
      "        \"region\": \"Kowloon City-HK\",\n",
      "        \"task_types\": \"[1, 2, 3, 4]\",\n",
      "        \"updated_at\": 1719611943,\n",
      "        \"version\": \"2.0\",\n",
      "        \"worker_address\": \"0x31CF5ba83905c4C7c894F1DE1268D3958a70dd0a\"\n",
      "      }\n",
      "    ],\n",
      "    \"jobs\": [\n",
      "      {\n",
      "        \"build_log\": \"wss://log.zzz.storefrontiers.cn:8091/api/v1/computing/lagrange/spaces/log?space_id=QmacTTg9nYycQKHov2AgnLhqFEErT4wZB1pmEWfYowxYvm&type=build\",\n",
      "        \"comments\": null,\n",
      "        \"container_log\": \"wss://log.zzz.storefrontiers.cn:8091/api/v1/computing/lagrange/spaces/log?space_id=QmacTTg9nYycQKHov2AgnLhqFEErT4wZB1pmEWfYowxYvm&type=container\",\n",
      "        \"cp_account_address\": \"0x3eFb0f95bB5a1Eb3c9868e9c535C6aBf19dD2876\",\n",
      "        \"created_at\": 1719612556,\n",
      "        \"duration\": 3660,\n",
      "        \"ended_at\": null,\n",
      "        \"hardware\": \"C1ae.small\",\n",
      "        \"id\": 7249,\n",
      "        \"job_real_uri\": \"https://a4pvvz4psu.zzz.storefrontiers.cn\",\n",
      "        \"job_result_uri\": null,\n",
      "        \"job_source_uri\": \"https://data.mcs.lagrangedao.org/ipfs/QmacTTg9nYycQKHov2AgnLhqFEErT4wZB1pmEWfYowxYvm\",\n",
      "        \"name\": \"Job-bb2f3a28-910e-4e37-ac01-9977b166aeb9\",\n",
      "        \"node_id\": \"04e0961444d2f1856f6ebccf3b02f855bde584a9a5bb72fa60ab5ec8418a0a200236d2673acd025093eba0fb8f7c7ebbaceab433b0343181eca93d5e8d7d7466d9\",\n",
      "        \"start_at\": 1719612559,\n",
      "        \"status\": \"Submitted\",\n",
      "        \"storage_source\": \"swanhub\",\n",
      "        \"task_uuid\": \"680ff6df-a377-451e-a91a-c68973fcd5de\",\n",
      "        \"type\": null,\n",
      "        \"updated_at\": 1719612569,\n",
      "        \"uuid\": \"bb2f3a28-910e-4e37-ac01-9977b166aeb9\"\n",
      "      },\n",
      "      {\n",
      "        \"build_log\": \"wss://log.tiaokong.top:8085/api/v1/computing/lagrange/spaces/log?space_id=QmacTTg9nYycQKHov2AgnLhqFEErT4wZB1pmEWfYowxYvm&type=build\",\n",
      "        \"comments\": null,\n",
      "        \"container_log\": \"wss://log.tiaokong.top:8085/api/v1/computing/lagrange/spaces/log?space_id=QmacTTg9nYycQKHov2AgnLhqFEErT4wZB1pmEWfYowxYvm&type=container\",\n",
      "        \"cp_account_address\": \"0x49992952342e848d2048B09b85E877e6d39Ee869\",\n",
      "        \"created_at\": 1719612559,\n",
      "        \"duration\": 3660,\n",
      "        \"ended_at\": null,\n",
      "        \"hardware\": \"C1ae.small\",\n",
      "        \"id\": 7250,\n",
      "        \"job_real_uri\": \"https://f08bx9434r.tiaokong.top\",\n",
      "        \"job_result_uri\": null,\n",
      "        \"job_source_uri\": \"https://data.mcs.lagrangedao.org/ipfs/QmacTTg9nYycQKHov2AgnLhqFEErT4wZB1pmEWfYowxYvm\",\n",
      "        \"name\": \"Job-7d9e5b18-5961-4f07-b0d8-64bda210ffe9\",\n",
      "        \"node_id\": \"044b5ee3a179cc0f3ceacafabec2cdc35b635ad47768a4e06ecc1746d204f6cfe1a3e5cfed33111e33de4f1a3ca9ed03a4a5fb411aa98e0def8857e954d1b561f8\",\n",
      "        \"start_at\": 1719612561,\n",
      "        \"status\": \"Submitted\",\n",
      "        \"storage_source\": \"swanhub\",\n",
      "        \"task_uuid\": \"680ff6df-a377-451e-a91a-c68973fcd5de\",\n",
      "        \"type\": null,\n",
      "        \"updated_at\": 1719612570,\n",
      "        \"uuid\": \"7d9e5b18-5961-4f07-b0d8-64bda210ffe9\"\n",
      "      },\n",
      "      {\n",
      "        \"build_log\": \"wss://log.:9085/api/v1/computing/lagrange/spaces/log?space_id=QmacTTg9nYycQKHov2AgnLhqFEErT4wZB1pmEWfYowxYvm&type=build\",\n",
      "        \"comments\": null,\n",
      "        \"container_log\": \"wss://log.:9085/api/v1/computing/lagrange/spaces/log?space_id=QmacTTg9nYycQKHov2AgnLhqFEErT4wZB1pmEWfYowxYvm&type=container\",\n",
      "        \"cp_account_address\": \"0xAe1b62e7a3F11a79f3CDA3c681f3460E5850742F\",\n",
      "        \"created_at\": 1719612561,\n",
      "        \"duration\": 3660,\n",
      "        \"ended_at\": null,\n",
      "        \"hardware\": \"C1ae.small\",\n",
      "        \"id\": 7251,\n",
      "        \"job_real_uri\": \"https://rmu8z4fnbq.\",\n",
      "        \"job_result_uri\": null,\n",
      "        \"job_source_uri\": \"https://data.mcs.lagrangedao.org/ipfs/QmacTTg9nYycQKHov2AgnLhqFEErT4wZB1pmEWfYowxYvm\",\n",
      "        \"name\": \"Job-e83cbdc6-0da5-4781-9739-6cadc002be7c\",\n",
      "        \"node_id\": \"041e28ae229d694af482f83aa5219c78d13f5cdd8d1076bb99284e7a33c6e4533803779427091b314dc0d3fe667117cf38deb1bb01bcda380f3eec4476c93e7016\",\n",
      "        \"start_at\": 1719612563,\n",
      "        \"status\": \"Submitted\",\n",
      "        \"storage_source\": \"swanhub\",\n",
      "        \"task_uuid\": \"680ff6df-a377-451e-a91a-c68973fcd5de\",\n",
      "        \"type\": null,\n",
      "        \"updated_at\": 1719612570,\n",
      "        \"uuid\": \"e83cbdc6-0da5-4781-9739-6cadc002be7c\"\n",
      "      }\n",
      "    ],\n",
      "    \"task\": {\n",
      "      \"comments\": null,\n",
      "      \"created_at\": 1719612537,\n",
      "      \"end_at\": 1719616197,\n",
      "      \"id\": 26645,\n",
      "      \"leading_job_id\": \"bb2f3a28-910e-4e37-ac01-9977b166aeb9\",\n",
      "      \"refund_amount\": null,\n",
      "      \"refund_wallet\": \"0x662aC7c5BA4193744224ee507298b4e5f92D6fDd\",\n",
      "      \"source\": \"v2\",\n",
      "      \"start_at\": 1719612537,\n",
      "      \"start_in\": 300,\n",
      "      \"status\": \"completed\",\n",
      "      \"task_detail\": {\n",
      "        \"amount\": 0.0,\n",
      "        \"bidder_limit\": 3,\n",
      "        \"created_at\": 1719612537,\n",
      "        \"duration\": 3600,\n",
      "        \"end_at\": 1719616137,\n",
      "        \"hardware\": \"C1ae.small\",\n",
      "        \"job_result_uri\": null,\n",
      "        \"job_source_uri\": \"https://data.mcs.lagrangedao.org/ipfs/QmacTTg9nYycQKHov2AgnLhqFEErT4wZB1pmEWfYowxYvm\",\n",
      "        \"price_per_hour\": \"0.0\",\n",
      "        \"requirements\": {\n",
      "          \"hardware\": \"None\",\n",
      "          \"hardware_type\": \"CPU\",\n",
      "          \"memory\": \"2\",\n",
      "          \"region\": \"global\",\n",
      "          \"vcpu\": \"2\"\n",
      "        },\n",
      "        \"start_at\": 1719612537,\n",
      "        \"status\": \"paid\",\n",
      "        \"storage_source\": \"swanhub\",\n",
      "        \"type\": \"instance\",\n",
      "        \"updated_at\": 1719612537\n",
      "      },\n",
      "      \"task_detail_cid\": \"https://data.mcs.lagrangedao.org/ipfs/QmQBiBB4sr8r4hZMB2RDcDQtUMxc8nYMV9EeWX5qi7ioJJ\",\n",
      "      \"tx_hash\": null,\n",
      "      \"type\": null,\n",
      "      \"updated_at\": 1719612570,\n",
      "      \"user_id\": 1986,\n",
      "      \"uuid\": \"680ff6df-a377-451e-a91a-c68973fcd5de\"\n",
      "    }\n",
      "  },\n",
      "  \"message\": \"fetch task info for task_uuid='680ff6df-a377-451e-a91a-c68973fcd5de' successfully\",\n",
      "  \"status\": \"success\"\n",
      "}\n"
     ]
    }
   ],
   "source": [
    "# Check task info\n",
    "info = swan_orchestrator.get_deployment_info(task_uuid=task_uuid)\n",
    "print(json.dumps(info, indent=2))"
   ]
  },
  {
   "cell_type": "markdown",
   "metadata": {},
   "source": [
    "### Show result\n",
    "\n",
    "`job_real_uri` is for show the result of application you deployed.  \n",
    "You can put it into the web browser to view application."
   ]
  },
  {
   "cell_type": "code",
   "execution_count": 9,
   "metadata": {},
   "outputs": [
    {
     "name": "stdout",
     "output_type": "stream",
     "text": [
      "['https://a4pvvz4psu.zzz.storefrontiers.cn', 'https://f08bx9434r.tiaokong.top', 'https://rmu8z4fnbq.']\n"
     ]
    }
   ],
   "source": [
    "result_url = swan_orchestrator.get_real_url(task_uuid)\n",
    "print(result_url)"
   ]
  },
  {
   "cell_type": "markdown",
   "metadata": {},
   "source": [
    "Check the response codes of the result_url"
   ]
  },
  {
   "cell_type": "code",
   "execution_count": null,
   "metadata": {},
   "outputs": [],
   "source": [
    "import requests\n",
    "import json\n",
    "\n",
    "headers = {\n",
    "    'Content-Type': 'application/json',\n",
    "}\n",
    "\n",
    "for url in result_url:\n",
    "    response = requests.get(url, headers=headers)\n",
    "\n",
    "    try:\n",
    "        print(json.dumps(response.json(), indent=4))\n",
    "    except Exception as e:\n",
    "        print(e)\n",
    "        print(response)"
   ]
  }
 ],
 "metadata": {
  "kernelspec": {
   "display_name": "swanchain",
   "language": "python",
   "name": "python3"
  },
  "language_info": {
   "codemirror_mode": {
    "name": "ipython",
    "version": 3
   },
   "file_extension": ".py",
   "mimetype": "text/x-python",
   "name": "python",
   "nbconvert_exporter": "python",
   "pygments_lexer": "ipython3",
   "version": "3.10.0"
  }
 },
 "nbformat": 4,
 "nbformat_minor": 2
}
