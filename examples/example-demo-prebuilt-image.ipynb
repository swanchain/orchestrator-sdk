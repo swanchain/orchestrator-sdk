{
 "cells": [
  {
   "cell_type": "markdown",
   "metadata": {},
   "source": [
    "## Demo for SDK\n",
    "\n",
    "This example shows how to use SDK to deploy a task. The demo notebook includes the following steps:\n",
    "- [initialization](#initialization)\n",
    "- [show available hardware info list](#show-available-hardware-information)\n",
    "- [create task with image_name](#create-task)\n",
    "- [follow up task status](#follow-up-task-status-optional)\n",
    "- [show result](#show-result)\n"
   ]
  },
  {
   "cell_type": "markdown",
   "metadata": {},
   "source": [
    "\n",
    "### Initialization\n",
    "\n",
    "#### get an `API_KEY`\n",
    "\n",
    "- For test version, get `API_KEY` in dashboard page: https://orchestrator-test.swanchain.io\n",
    "- For prod version, get `API_KEY` in dashboard page: https://orchestrator.swanchain.io\n",
    "\n",
    "If use this repository to test on your local machine, add `sys.path.insert(0, '..')` at the beginning, and run code in the root directory of this repository.\n",
    "\n",
    "To use this SDK, you need to add environment file `.env` in your local directory, including the following parameters (`PK` is private key):\n",
    "\n",
    "```\n",
    "API_KEY=\n",
    "WALLET=\n",
    "PK=\n",
    "```"
   ]
  },
  {
   "cell_type": "code",
   "execution_count": 1,
   "metadata": {},
   "outputs": [],
   "source": [
    "import sys\n",
    "sys.path.insert(0, '..') \n",
    "\n",
    "import os\n",
    "import time\n",
    "import dotenv\n",
    "import json\n",
    "dotenv.load_dotenv()\n",
    "\n",
    "import swan\n",
    "\n",
    "wallet_address = os.getenv('WALLET')\n",
    "private_key = os.getenv('PK')\n",
    "api_key = os.getenv('API_KEY')\n",
    "swan_orchestrator = swan.resource(api_key=api_key, service_name='Orchestrator')"
   ]
  },
  {
   "cell_type": "markdown",
   "metadata": {},
   "source": [
    "### Show available hardware information"
   ]
  },
  {
   "cell_type": "code",
   "execution_count": 2,
   "metadata": {},
   "outputs": [
    {
     "data": {
      "text/plain": [
       "[{'id': 0,\n",
       "  'name': 'C1ae.small',\n",
       "  'description': 'CPU only · 2 vCPU · 2 GiB',\n",
       "  'type': 'CPU',\n",
       "  'region': ['North Carolina-US'],\n",
       "  'price': '0.0',\n",
       "  'status': 'available'},\n",
       " {'id': 1,\n",
       "  'name': 'C1ae.medium',\n",
       "  'description': 'CPU only · 4 vCPU · 4 GiB',\n",
       "  'type': 'CPU',\n",
       "  'region': ['North Carolina-US'],\n",
       "  'price': '1.0',\n",
       "  'status': 'available'},\n",
       " {'id': 12,\n",
       "  'name': 'G1ae.small',\n",
       "  'description': 'Nvidia 3080 · 4 vCPU · 8 GiB',\n",
       "  'type': 'GPU',\n",
       "  'region': ['North Carolina-US'],\n",
       "  'price': '10.0',\n",
       "  'status': 'available'},\n",
       " {'id': 13,\n",
       "  'name': 'G1ae.medium',\n",
       "  'description': 'Nvidia 3080 · 8 vCPU · 16 GiB',\n",
       "  'type': 'GPU',\n",
       "  'region': ['North Carolina-US'],\n",
       "  'price': '11.0',\n",
       "  'status': 'available'},\n",
       " {'id': 73,\n",
       "  'name': 'R1ae.medium',\n",
       "  'description': 'Nvidia 3080 · 8 vCPU · 32 GiB',\n",
       "  'type': 'GPU',\n",
       "  'region': ['North Carolina-US'],\n",
       "  'price': '22.0',\n",
       "  'status': 'available'}]"
      ]
     },
     "execution_count": 2,
     "metadata": {},
     "output_type": "execute_result"
    }
   ],
   "source": [
    "hardwares_info = swan_orchestrator.get_hardware_config()\n",
    "hardwares_info"
   ]
  },
  {
   "cell_type": "markdown",
   "metadata": {},
   "source": [
    "### Create task\n",
    "\n",
    "This step uses above information to create task, and get `task_uuid`, which is useful in submit payment step."
   ]
  },
  {
   "cell_type": "code",
   "execution_count": 3,
   "metadata": {},
   "outputs": [
    {
     "name": "stdout",
     "output_type": "stream",
     "text": [
      "{\n",
      "  \"data\": {\n",
      "    \"config_id\": 1,\n",
      "    \"created_at\": 1719612207,\n",
      "    \"duration\": 3600,\n",
      "    \"ended_at\": null,\n",
      "    \"error_code\": null,\n",
      "    \"id\": 2459,\n",
      "    \"order_type\": \"Creation\",\n",
      "    \"refund_tx_hash\": null,\n",
      "    \"region\": \"global\",\n",
      "    \"space_id\": null,\n",
      "    \"start_in\": 300,\n",
      "    \"started_at\": 1719612207,\n",
      "    \"status\": \"pending_payment_confirm\",\n",
      "    \"task_uuid\": \"a5f9278e-99a6-401b-bf54-fb86b36b0fd4\",\n",
      "    \"tx_hash\": \"0xfccf187a0e384034d332b2fd2bcd3d26a9ba6b7c89ed5100b245c0ef6bed0cd1\",\n",
      "    \"updated_at\": 1719612217,\n",
      "    \"uuid\": \"4c711126-a3f1-4943-8024-3b0312ed5359\"\n",
      "  },\n",
      "  \"message\": \"Query order status success.\",\n",
      "  \"status\": \"success\",\n",
      "  \"tx_hash\": \"0xfccf187a0e384034d332b2fd2bcd3d26a9ba6b7c89ed5100b245c0ef6bed0cd1\",\n",
      "  \"id\": \"a5f9278e-99a6-401b-bf54-fb86b36b0fd4\"\n",
      "}\n"
     ]
    }
   ],
   "source": [
    "result = swan_orchestrator.create_task(\n",
    "    image_name=\"hello-world\",\n",
    "    wallet_address=wallet_address,\n",
    "    private_key=private_key\n",
    ")\n",
    "print(json.dumps(result, indent=2))\n",
    "task_uuid = result['id']"
   ]
  },
  {
   "cell_type": "markdown",
   "metadata": {},
   "source": [
    "### follow up task status (optional)\n",
    "The following step is optional, shows information when waiting for task being deployed."
   ]
  },
  {
   "cell_type": "code",
   "execution_count": 4,
   "metadata": {},
   "outputs": [
    {
     "name": "stdout",
     "output_type": "stream",
     "text": [
      "{\n",
      "  \"data\": {\n",
      "    \"computing_providers\": [\n",
      "      {\n",
      "        \"beneficiary\": \"0xFbc1d38a2127D81BFe3EA347bec7310a1cfa2373\",\n",
      "        \"cp_account_address\": \"0x4D81F4277667862046802bDdcdB667704bEFbbAB\",\n",
      "        \"created_at\": 1718385670,\n",
      "        \"id\": 66,\n",
      "        \"lat\": 45.5075,\n",
      "        \"lon\": -73.5887,\n",
      "        \"multi_address\": [\n",
      "          \"/ip4/38.140.46.60/tcp/8086\"\n",
      "        ],\n",
      "        \"node_id\": \"0478a886cb6e191a0531fb6f8a7da4c0fbf0ec220af6d49e622f7e2da514f0ea205ed77918796c66ae642f0996dbf0ecc4bb7f1dd949705d1306abd1c14b60fb8a\",\n",
      "        \"online\": 1,\n",
      "        \"owner_address\": \"0xFbc1d38a2127D81BFe3EA347bec7310a1cfa2373\",\n",
      "        \"region\": \"Quebec-CA\",\n",
      "        \"task_types\": \"[1, 2, 3]\",\n",
      "        \"updated_at\": 1719612229,\n",
      "        \"version\": \"2.0\",\n",
      "        \"worker_address\": \"0xFbc1d38a2127D81BFe3EA347bec7310a1cfa2373\"\n",
      "      },\n",
      "      {\n",
      "        \"beneficiary\": \"0x1AE8665873565C9089753920A0866C49Bd35DCC9\",\n",
      "        \"cp_account_address\": \"0xd63853b23Af4cc3b37377368dd33F09b8567aCea\",\n",
      "        \"created_at\": 1718386123,\n",
      "        \"id\": 71,\n",
      "        \"lat\": 35.8639,\n",
      "        \"lon\": -78.535,\n",
      "        \"multi_address\": [\n",
      "          \"/ip4/provider.cp.filezoo.com.cn/tcp/9087\"\n",
      "        ],\n",
      "        \"node_id\": \"0475e6cb8909e125db8b233e9d2c8237e28e8d852fb4dcf1d5f9b5eead94931d8ed84c5f08e4e88a53b24d80bb3bb3b181389fcddf0114ac93f2866d769cc8ff18\",\n",
      "        \"online\": 1,\n",
      "        \"owner_address\": \"0x1AE8665873565C9089753920A0866C49Bd35DCC9\",\n",
      "        \"region\": \"North Carolina-US\",\n",
      "        \"task_types\": \"[3]\",\n",
      "        \"updated_at\": 1719612229,\n",
      "        \"version\": \"2.0\",\n",
      "        \"worker_address\": \"0x1AE8665873565C9089753920A0866C49Bd35DCC9\"\n",
      "      }\n",
      "    ],\n",
      "    \"jobs\": [\n",
      "      {\n",
      "        \"build_log\": \"wss://log.dev2.crosschain.computer:8086/api/v1/computing/lagrange/spaces/log?space_id=QmYQmJGYANRSzuv6Nydsmj5JTayDDKwzo19B37mgcTAtYg&type=build\",\n",
      "        \"comments\": null,\n",
      "        \"container_log\": \"wss://log.dev2.crosschain.computer:8086/api/v1/computing/lagrange/spaces/log?space_id=QmYQmJGYANRSzuv6Nydsmj5JTayDDKwzo19B37mgcTAtYg&type=container\",\n",
      "        \"cp_account_address\": \"0x4D81F4277667862046802bDdcdB667704bEFbbAB\",\n",
      "        \"created_at\": 1719612221,\n",
      "        \"duration\": 3600,\n",
      "        \"ended_at\": null,\n",
      "        \"hardware\": \"C1ae.small\",\n",
      "        \"id\": 4521,\n",
      "        \"job_real_uri\": \"https://vxfxfs2vcr.dev2.crosschain.computer\",\n",
      "        \"job_result_uri\": null,\n",
      "        \"job_source_uri\": \"https://plutotest.acl.swanipfs.com/ipfs/QmYQmJGYANRSzuv6Nydsmj5JTayDDKwzo19B37mgcTAtYg\",\n",
      "        \"name\": \"Job-b8ee8875-1e00-4bd3-94a3-c1b6e4b6932e\",\n",
      "        \"node_id\": \"0478a886cb6e191a0531fb6f8a7da4c0fbf0ec220af6d49e622f7e2da514f0ea205ed77918796c66ae642f0996dbf0ecc4bb7f1dd949705d1306abd1c14b60fb8a\",\n",
      "        \"start_at\": 1719612221,\n",
      "        \"status\": \"Submitted\",\n",
      "        \"storage_source\": \"swanhub\",\n",
      "        \"task_uuid\": \"a5f9278e-99a6-401b-bf54-fb86b36b0fd4\",\n",
      "        \"type\": null,\n",
      "        \"updated_at\": 1719612221,\n",
      "        \"uuid\": \"b8ee8875-1e00-4bd3-94a3-c1b6e4b6932e\"\n",
      "      },\n",
      "      {\n",
      "        \"build_log\": \"wss://log.cp.filezoo.com.cn:9087/api/v1/computing/lagrange/spaces/log?space_id=QmYQmJGYANRSzuv6Nydsmj5JTayDDKwzo19B37mgcTAtYg&type=build\",\n",
      "        \"comments\": null,\n",
      "        \"container_log\": \"wss://log.cp.filezoo.com.cn:9087/api/v1/computing/lagrange/spaces/log?space_id=QmYQmJGYANRSzuv6Nydsmj5JTayDDKwzo19B37mgcTAtYg&type=container\",\n",
      "        \"cp_account_address\": \"0xd63853b23Af4cc3b37377368dd33F09b8567aCea\",\n",
      "        \"created_at\": 1719612221,\n",
      "        \"duration\": 3600,\n",
      "        \"ended_at\": null,\n",
      "        \"hardware\": \"C1ae.small\",\n",
      "        \"id\": 4522,\n",
      "        \"job_real_uri\": \"https://at0xdkllnm.cp.filezoo.com.cn\",\n",
      "        \"job_result_uri\": null,\n",
      "        \"job_source_uri\": \"https://plutotest.acl.swanipfs.com/ipfs/QmYQmJGYANRSzuv6Nydsmj5JTayDDKwzo19B37mgcTAtYg\",\n",
      "        \"name\": \"Job-c41c26bc-ac2a-4bb4-bda7-77e844cfea99\",\n",
      "        \"node_id\": \"0475e6cb8909e125db8b233e9d2c8237e28e8d852fb4dcf1d5f9b5eead94931d8ed84c5f08e4e88a53b24d80bb3bb3b181389fcddf0114ac93f2866d769cc8ff18\",\n",
      "        \"start_at\": 1719612222,\n",
      "        \"status\": \"Submitted\",\n",
      "        \"storage_source\": \"swanhub\",\n",
      "        \"task_uuid\": \"a5f9278e-99a6-401b-bf54-fb86b36b0fd4\",\n",
      "        \"type\": null,\n",
      "        \"updated_at\": 1719612222,\n",
      "        \"uuid\": \"c41c26bc-ac2a-4bb4-bda7-77e844cfea99\"\n",
      "      }\n",
      "    ],\n",
      "    \"task\": {\n",
      "      \"comments\": null,\n",
      "      \"created_at\": 1719612207,\n",
      "      \"end_at\": 1719615807,\n",
      "      \"id\": 4436,\n",
      "      \"leading_job_id\": \"b8ee8875-1e00-4bd3-94a3-c1b6e4b6932e\",\n",
      "      \"refund_amount\": null,\n",
      "      \"refund_wallet\": \"0x662aC7c5BA4193744224ee507298b4e5f92D6fDd\",\n",
      "      \"source\": \"v2\",\n",
      "      \"start_at\": 1719612207,\n",
      "      \"start_in\": 300,\n",
      "      \"status\": \"completed\",\n",
      "      \"task_detail\": {\n",
      "        \"amount\": 0.0,\n",
      "        \"bidder_limit\": 3,\n",
      "        \"created_at\": 1719612207,\n",
      "        \"duration\": 3600,\n",
      "        \"end_at\": 1719615807,\n",
      "        \"hardware\": \"C1ae.small\",\n",
      "        \"job_result_uri\": null,\n",
      "        \"job_source_uri\": \"https://plutotest.acl.swanipfs.com/ipfs/QmYQmJGYANRSzuv6Nydsmj5JTayDDKwzo19B37mgcTAtYg\",\n",
      "        \"price_per_hour\": \"0.0\",\n",
      "        \"requirements\": {\n",
      "          \"hardware\": \"None\",\n",
      "          \"hardware_type\": \"CPU\",\n",
      "          \"memory\": \"2\",\n",
      "          \"region\": \"global\",\n",
      "          \"vcpu\": \"2\"\n",
      "        },\n",
      "        \"start_at\": 1719612207,\n",
      "        \"status\": \"paid\",\n",
      "        \"storage_source\": \"swanhub\",\n",
      "        \"type\": \"instance\",\n",
      "        \"updated_at\": 1719612207\n",
      "      },\n",
      "      \"task_detail_cid\": \"https://plutotest.acl.swanipfs.com/ipfs/QmUAktjB8eg6u8PVM3LRxx2CstKJ5P5uq1a35FppnEvH4M\",\n",
      "      \"tx_hash\": null,\n",
      "      \"type\": null,\n",
      "      \"updated_at\": 1719612226,\n",
      "      \"user_id\": 99,\n",
      "      \"uuid\": \"a5f9278e-99a6-401b-bf54-fb86b36b0fd4\"\n",
      "    }\n",
      "  },\n",
      "  \"message\": \"fetch task info for task_uuid='a5f9278e-99a6-401b-bf54-fb86b36b0fd4' successfully\",\n",
      "  \"status\": \"success\"\n",
      "}\n"
     ]
    }
   ],
   "source": [
    "# Check task info\n",
    "info = swan_orchestrator.get_deployment_info(task_uuid=task_uuid)\n",
    "print(json.dumps(info, indent=2))"
   ]
  },
  {
   "cell_type": "markdown",
   "metadata": {},
   "source": [
    "### Show result\n",
    "\n",
    "`job_real_uri` is for show the result of application you deployed.  \n",
    "You can put it into the web browser to view application."
   ]
  },
  {
   "cell_type": "code",
   "execution_count": 5,
   "metadata": {},
   "outputs": [
    {
     "name": "stdout",
     "output_type": "stream",
     "text": [
      "['https://vxfxfs2vcr.dev2.crosschain.computer', 'https://at0xdkllnm.cp.filezoo.com.cn']\n"
     ]
    }
   ],
   "source": [
    "result_url = swan_orchestrator.get_real_url(task_uuid)\n",
    "print(result_url)"
   ]
  },
  {
   "cell_type": "markdown",
   "metadata": {},
   "source": [
    "Check the response codes of the result_url"
   ]
  },
  {
   "cell_type": "code",
   "execution_count": 6,
   "metadata": {},
   "outputs": [
    {
     "name": "stdout",
     "output_type": "stream",
     "text": [
      "Expecting value: line 1 column 1 (char 0)\n",
      "<Response [200]>\n",
      "Expecting value: line 1 column 1 (char 0)\n",
      "<Response [503]>\n"
     ]
    }
   ],
   "source": [
    "import requests\n",
    "import json\n",
    "\n",
    "headers = {\n",
    "    'Content-Type': 'application/json',\n",
    "}\n",
    "\n",
    "for url in result_url:\n",
    "    response = requests.get(url, headers=headers)\n",
    "\n",
    "    try:\n",
    "        print(json.dumps(response.json(), indent=4))\n",
    "    except Exception as e:\n",
    "        print(e)\n",
    "        print(response)\n"
   ]
  }
 ],
 "metadata": {
  "kernelspec": {
   "display_name": "swanchain",
   "language": "python",
   "name": "python3"
  },
  "language_info": {
   "codemirror_mode": {
    "name": "ipython",
    "version": 3
   },
   "file_extension": ".py",
   "mimetype": "text/x-python",
   "name": "python",
   "nbconvert_exporter": "python",
   "pygments_lexer": "ipython3",
   "version": "3.10.0"
  }
 },
 "nbformat": 4,
 "nbformat_minor": 2
}
