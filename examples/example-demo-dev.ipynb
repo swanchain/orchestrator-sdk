{
 "cells": [
  {
   "cell_type": "markdown",
   "metadata": {},
   "source": [
    "## Demo for SDK\n",
    "\n",
    "This example shows how to use SDK to deploy a task. The demo notebook includes the following steps:\n",
    "\n",
    "- [Getting Started](#Getting-Started)\n",
    "    - [initialization](#initialization)\n",
    "    - [show available hardware info list](#show-available-hardware-information)\n",
    "    - [choose hardware config](#Set-default-hardware-config-(Optional))\n",
    "- [Creating And Deploying Task](#Creating-And-Deploying-Task)\n",
    "    - [estimate payment amount](#estimate-payment-amount-optional)\n",
    "    - [Auto Pay Path](#Auto-Pay-Path)\n",
    "        - [create task with auto_pay](#Create-task-(auto_pay))\n",
    "        - [renew task with auto-pay](#renew-task-auto-pay-optional)\n",
    "    - [No Auto Pay Path](#No-Auto-Pay-Path)\n",
    "        - [create task with no auto_pay to get `task_uuid`](#Create-task-(No-auto_pay))\n",
    "        - [make payment](#make-payment-(Optional))\n",
    "        - [validate payment](#validate-payment-to-deploy-task)\n",
    "        - [renew task](#renew-task-(no-auto-pay)-optional)\n",
    "    - [terminate task](#terminate-task-optional)\n",
    "    - [claim review](#claim-review-optional)\n",
    "- [View Deployed Task Results](#View-Deployed-Task-Results)\n",
    "    - [follow up task status](#follow-up-task-status-optional)\n",
    "    - [show result](#show-result)\n"
   ]
  },
  {
   "cell_type": "markdown",
   "metadata": {},
   "source": [
    "# Getting Started"
   ]
  },
  {
   "cell_type": "markdown",
   "metadata": {},
   "source": [
    "\n",
    "### Initialization\n",
    "\n",
    "#### get an `API_KEY`\n",
    "\n",
    "- For test version, get `API_KEY` in dashboard page: https://orchestrator-test.swanchain.io\n",
    "- For prod version, get `API_KEY` in dashboard page: https://orchestrator.swanchain.io\n",
    "\n",
    "If use this repository to test on your local machine, add `sys.path.insert(0, '..')` at the beginning, and run code in the root directory of this repository.\n",
    "\n",
    "To use this SDK in another enviroment set up, you need to add environment file `.env` in your local directory, including the following parameters (`PK` is private key):\n",
    "\n",
    "```\n",
    "API_KEY=\n",
    "WALLET=\n",
    "PK=\n",
    "SWAN_DEV=\n",
    "```"
   ]
  },
  {
   "cell_type": "code",
   "execution_count": 2,
   "metadata": {},
   "outputs": [],
   "source": [
    "import sys\n",
    "sys.path.insert(0, '..') \n",
    "\n",
    "import os\n",
    "import time\n",
    "import dotenv\n",
    "import json\n",
    "dotenv.load_dotenv()\n",
    "\n",
    "import swan\n",
    "\n",
    "wallet_address = os.getenv('WALLET')\n",
    "private_key = os.getenv('PK')\n",
    "api_key = os.getenv('API_KEY')\n",
    "swan_dev_url = os.getenv('SWAN_DEV')\n",
    "if swan_dev_url == None:\n",
    "    print(f\"NOTICE: If you do not set the SWAN_DEV, you will be using PROD\")\n",
    "\n",
    "swan_orchestrator = swan.resource(api_key=api_key, login_url=swan_dev_url, service_name='Orchestrator')"
   ]
  },
  {
   "cell_type": "code",
   "execution_count": 3,
   "metadata": {},
   "outputs": [
    {
     "name": "stdout",
     "output_type": "stream",
     "text": [
      "{\n",
      "  \"client_contract_address\": \"0x9c5397F804f6663326151c81bBD82bb1451059E8\",\n",
      "  \"payment_contract_address\": \"0xB48c5D1c025655BA79Ac4E10C0F19523dB97c816\",\n",
      "  \"rpc_url\": \"https://rpc-atom-internal.swanchain.io\",\n",
      "  \"swan_token_contract_address\": \"0x91B25A65b295F0405552A4bbB77879ab5e38166c\"\n",
      "}\n"
     ]
    }
   ],
   "source": [
    "r = swan_orchestrator.contract_info\n",
    "print(json.dumps(r, indent=2))"
   ]
  },
  {
   "cell_type": "markdown",
   "metadata": {},
   "source": [
    "### Show available hardware information"
   ]
  },
  {
   "cell_type": "code",
   "execution_count": 4,
   "metadata": {},
   "outputs": [
    {
     "name": "stdout",
     "output_type": "stream",
     "text": [
      "[{'id': 0, 'name': 'C1ae.small', 'description': 'CPU only · 2 vCPU · 2 GiB', 'type': 'CPU', 'region': ['Quebec-CA', 'North Carolina-US'], 'price': '0.0', 'status': 'available'}, {'id': 1, 'name': 'C1ae.medium', 'description': 'CPU only · 4 vCPU · 4 GiB', 'type': 'CPU', 'region': ['Quebec-CA', 'North Carolina-US'], 'price': '1.0', 'status': 'available'}, {'id': 12, 'name': 'G1ae.small', 'description': 'Nvidia 3080 · 4 vCPU · 8 GiB', 'type': 'GPU', 'region': ['Quebec-CA', 'North Carolina-US'], 'price': '10.0', 'status': 'available'}, {'id': 13, 'name': 'G1ae.medium', 'description': 'Nvidia 3080 · 8 vCPU · 16 GiB', 'type': 'GPU', 'region': ['Quebec-CA', 'North Carolina-US'], 'price': '11.0', 'status': 'available'}, {'id': 20, 'name': 'Hpc1ae.small', 'description': 'Nvidia 3090 · 4 vCPU · 8 GiB', 'type': 'GPU', 'region': ['Quebec-CA'], 'price': '14.0', 'status': 'available'}, {'id': 21, 'name': 'Hpc1ae.medium', 'description': 'Nvidia 3090 · 8 vCPU · 16 GiB', 'type': 'GPU', 'region': ['Quebec-CA'], 'price': '16.0', 'status': 'available'}, {'id': 73, 'name': 'R1ae.medium', 'description': 'Nvidia 3080 · 8 vCPU · 32 GiB', 'type': 'GPU', 'region': ['Quebec-CA', 'North Carolina-US'], 'price': '22.0', 'status': 'available'}, {'id': 74, 'name': 'R1ae.large', 'description': 'Nvidia 3090 · 8 vCPU · 32 GiB', 'type': 'GPU', 'region': ['Quebec-CA'], 'price': '30.0', 'status': 'available'}]\n"
     ]
    }
   ],
   "source": [
    "hardwares_info = swan_orchestrator.get_hardware_config()\n",
    "print(hardwares_info)\n",
    "hardware_id = 1 # 'C1ae.medium'\n",
    "region = 'North Carolina-US'"
   ]
  },
  {
   "cell_type": "markdown",
   "metadata": {},
   "source": [
    "### Set default hardware config (Optional)\n",
    "\n",
    "choose a default hardware with its hardware id and region. Set default `hardware_id` and `region` will be used in the steps to deploy task if not provided as parameters in future functions"
   ]
  },
  {
   "cell_type": "code",
   "execution_count": 5,
   "metadata": {},
   "outputs": [
    {
     "name": "stdout",
     "output_type": "stream",
     "text": [
      "Successfully set up default task configuration\n"
     ]
    }
   ],
   "source": [
    "hardware_id = 1 # 'C1ae.medium'\n",
    "region = 'North Carolina-US'\n",
    "if swan_orchestrator.set_default_task_config(hardware_id, region):\n",
    "    print(\"Successfully set up default task configuration\")"
   ]
  },
  {
   "cell_type": "markdown",
   "metadata": {},
   "source": [
    "# Creating-And-Deploying-Task"
   ]
  },
  {
   "cell_type": "markdown",
   "metadata": {},
   "source": [
    "### Estimate Payment amount (Optional)\n",
    "\n",
    "Estimate the cost of deploying the task on specified hardware for duration (in seconds)"
   ]
  },
  {
   "cell_type": "code",
   "execution_count": 6,
   "metadata": {},
   "outputs": [
    {
     "name": "stdout",
     "output_type": "stream",
     "text": [
      "1\n"
     ]
    }
   ],
   "source": [
    "duration = 1 * 3600 # 1 hour\n",
    "\n",
    "amount = swan_orchestrator.estimate_payment(\n",
    "    duration=duration, # Optional: Defaults to 3600 seconds or 1 hour\n",
    "    hardware_id=hardware_id, # Optional: Defaults to hardware_id set in set_default_task_config or 0 (free) if not set\n",
    ")\n",
    "\n",
    "print(amount)"
   ]
  },
  {
   "cell_type": "markdown",
   "metadata": {},
   "source": [
    "## Auto Pay Path"
   ]
  },
  {
   "cell_type": "markdown",
   "metadata": {},
   "source": [
    "### Create task (auto_pay)\n",
    "\n",
    "This step creates, pays and deploys task. It also gets `task_uuid`, which is useful in task info steps.\n",
    "\n",
    "`wallet_address` is mandatory. `job_source_uri` is mandatory in this demo, please check out example-demo-prebuilt-image if deploying prebuilt images with `image_name`.\n",
    "\n",
    "In this section, `private_key` is mandatory. If you do not want to use `private_key` and pay through SDK, please check out [create task with no auto_pay](#Create-task-(No-auto_pay))\n",
    "\n",
    "`job_source_uri` is repository url of code to be deployed, must contain a must contain a dockerfile or deploy.yaml file"
   ]
  },
  {
   "cell_type": "code",
   "execution_count": 7,
   "metadata": {},
   "outputs": [
    {
     "name": "stdout",
     "output_type": "stream",
     "text": [
      "{\n",
      "  \"data\": {\n",
      "    \"config_id\": 2,\n",
      "    \"created_at\": 1719606062,\n",
      "    \"duration\": 3600,\n",
      "    \"ended_at\": null,\n",
      "    \"error_code\": null,\n",
      "    \"id\": 2453,\n",
      "    \"order_type\": \"Creation\",\n",
      "    \"refund_tx_hash\": null,\n",
      "    \"region\": \"North Carolina-US\",\n",
      "    \"space_id\": null,\n",
      "    \"start_in\": 300,\n",
      "    \"started_at\": 1719606062,\n",
      "    \"status\": \"pending_payment_confirm\",\n",
      "    \"task_uuid\": \"6e63f456-cfaf-4a00-acd8-fe929414cd84\",\n",
      "    \"tx_hash\": \"0xcce541161c34f2900fc4dfdf83fdf58ed233df9b25b2fdfc46669c22038cc455\",\n",
      "    \"updated_at\": 1719606070,\n",
      "    \"uuid\": \"d4f61285-655a-4f61-a4e0-e6160619c975\"\n",
      "  },\n",
      "  \"message\": \"Query order status success.\",\n",
      "  \"status\": \"success\",\n",
      "  \"tx_hash\": \"0xcce541161c34f2900fc4dfdf83fdf58ed233df9b25b2fdfc46669c22038cc455\",\n",
      "  \"id\": \"6e63f456-cfaf-4a00-acd8-fe929414cd84\"\n",
      "}\n"
     ]
    }
   ],
   "source": [
    "# job_source_uri = '<github repository url of code to be deployed>'\n",
    "\n",
    "# Demo example: uncomment to use\n",
    "job_source_uri = 'https://github.com/alphaflows/tetris-docker-image.git'\n",
    "\n",
    "result = swan_orchestrator.create_task(\n",
    "    wallet_address=wallet_address,\n",
    "    job_source_uri=job_source_uri,\n",
    "    auto_pay=True, # Optional: Defaults to false, but in this section's path, set to True\n",
    "    private_key=private_key,\n",
    "    hardware_id=hardware_id, # Optional: Defaults to hardware_id set in set_default_task_config or 0 (free) if not set\n",
    "    region='North Carolina-US', # Optional: Defaults to region set in set_default_task_config or global if not set\n",
    "    duration=duration, # Optional: Defaults to 3600 seconds\n",
    ")\n",
    "\n",
    "print(json.dumps(result, indent=2))\n",
    "\n",
    "# Store the task_uuid of created task\n",
    "task_uuid = result['id']"
   ]
  },
  {
   "cell_type": "markdown",
   "metadata": {},
   "source": [
    "### renew task (auto-pay) (optional)\n",
    "\n",
    "Extend `task_uuid` by `duration`. Using auto pay automatically makes a transaction to SWAN contract and extends the task."
   ]
  },
  {
   "cell_type": "code",
   "execution_count": null,
   "metadata": {},
   "outputs": [],
   "source": [
    "renew_task = swan_orchestrator.renew_task(\n",
    "    task_uuid=task_uuid, \n",
    "    duration=60, # Optional: Defaults to 3600 seconds (1 hour)\n",
    "    auto_pay=True, # Optional: Defaults to False, in this demo path set to True\n",
    "    private_key=private_key,\n",
    "    hardware_id=hardware_id # Optional: Defaults to hardware_id set in set_default_task_config or 0 (free) if not set\n",
    ")\n",
    "\n",
    "if renew_task and renew_task['status'] == 'success':\n",
    "    print(f\"successfully renewed task\")"
   ]
  },
  {
   "cell_type": "markdown",
   "metadata": {},
   "source": [
    "If completed steps above, please go to [View Deployed Task Results](#View-Deployed-Task-Results) to view results, or [terminate task](#terminate-task) for more functions related to tasks"
   ]
  },
  {
   "cell_type": "markdown",
   "metadata": {},
   "source": [
    "## No Auto Pay Path"
   ]
  },
  {
   "cell_type": "markdown",
   "metadata": {},
   "source": [
    "### Create task (No auto_pay)\n",
    "\n",
    "This creates task, but does not pay or deploy task. It gets `task_uuid`, which is useful in payment steps.\n",
    "\n",
    "`wallet_address` is mandatory. `job_source_uri` is mandatory in this demo, please check out example-demo-prebuilt-image if deploying prebuilt images.\n",
    "\n",
    "`job_source_uri` is repository url of code to be deployed, must contain a must contain a dockerfile or deploy.yaml file"
   ]
  },
  {
   "cell_type": "code",
   "execution_count": 8,
   "metadata": {},
   "outputs": [
    {
     "name": "stdout",
     "output_type": "stream",
     "text": [
      "{\n",
      "  \"data\": {\n",
      "    \"task\": {\n",
      "      \"comments\": null,\n",
      "      \"created_at\": 1719606552,\n",
      "      \"end_at\": 1719610152,\n",
      "      \"id\": 4434,\n",
      "      \"leading_job_id\": null,\n",
      "      \"refund_amount\": null,\n",
      "      \"refund_wallet\": \"0x00165Ca5Ab193c4D2709F94A5418165bA04394E6\",\n",
      "      \"source\": \"v2\",\n",
      "      \"start_at\": 1719606552,\n",
      "      \"start_in\": 300,\n",
      "      \"status\": \"initialized\",\n",
      "      \"task_detail\": {\n",
      "        \"amount\": 1.0,\n",
      "        \"bidder_limit\": 3,\n",
      "        \"created_at\": 1719606552,\n",
      "        \"duration\": 3600,\n",
      "        \"end_at\": 1719610152,\n",
      "        \"hardware\": \"C1ae.medium\",\n",
      "        \"job_result_uri\": null,\n",
      "        \"job_source_uri\": \"https://plutotest.acl.swanipfs.com/ipfs/QmTFyG6eft4xnHPzry2WsR897Toa22Jcn3vP7DkfU6GE5t\",\n",
      "        \"price_per_hour\": \"1.0\",\n",
      "        \"requirements\": {\n",
      "          \"hardware\": \"None\",\n",
      "          \"hardware_type\": \"CPU\",\n",
      "          \"memory\": \"4\",\n",
      "          \"region\": \"North Carolina-US\",\n",
      "          \"vcpu\": \"4\"\n",
      "        },\n",
      "        \"start_at\": 1719606552,\n",
      "        \"status\": \"paid\",\n",
      "        \"storage_source\": \"swanhub\",\n",
      "        \"type\": \"instance\",\n",
      "        \"updated_at\": 1719606552\n",
      "      },\n",
      "      \"task_detail_cid\": null,\n",
      "      \"tx_hash\": null,\n",
      "      \"type\": null,\n",
      "      \"updated_at\": 1719606552,\n",
      "      \"user_id\": 99,\n",
      "      \"uuid\": \"531a9689-f395-484f-8ef8-2d4bc5a31e42\"\n",
      "    }\n",
      "  },\n",
      "  \"message\": \"Task_uuid initialized.\",\n",
      "  \"status\": \"success\",\n",
      "  \"id\": \"531a9689-f395-484f-8ef8-2d4bc5a31e42\"\n",
      "}\n"
     ]
    }
   ],
   "source": [
    "# job_source_uri = '<github repository url of code to be deployed>'\n",
    "\n",
    "# Demo example: uncomment to use\n",
    "job_source_uri = 'https://github.com/alphaflows/tetris-docker-image.git'\n",
    "\n",
    "result = swan_orchestrator.create_task(\n",
    "    wallet_address=wallet_address,\n",
    "    job_source_uri=job_source_uri,\n",
    "    hardware_id=hardware_id, # Optional: Defaults to hardware_id set in set_default_task_config or 0 (free) if not set\n",
    "    region='North Carolina-US', # Optional: Defaults to region set in set_default_task_config or global if not set\n",
    "    duration=duration, # Optional: Defaults to 3600 seconds\n",
    "    auto_pay=False, # Optional: Defaults to false\n",
    ")\n",
    "\n",
    "print(json.dumps(result, indent=2))\n",
    "\n",
    "# Store the task_uuid of created task\n",
    "task_uuid = result['id']"
   ]
  },
  {
   "cell_type": "markdown",
   "metadata": {},
   "source": [
    "### Make Payment (Optional)\n",
    "\n",
    "This step is using `task_uuid`, `private_key`,  `duration`, and `hardware_id` to submit payment and make task eligible for assigning if payment successful via swan SDK. `task_uuid`, `private_key` are mandatory.\n",
    "\n",
    "If following this section, please skip to - [View Deployed Task Results](#View-Deployed-Task-Results) next.\n",
    "If do not want to submit payment with swan SDK, and directly made payment to swan contract instead, please move onto next section."
   ]
  },
  {
   "cell_type": "code",
   "execution_count": null,
   "metadata": {},
   "outputs": [],
   "source": [
    "if result_validation := swan_orchestrator.make_payment(\n",
    "    task_uuid=task_uuid, \n",
    "    private_key=private_key,\n",
    "    duration=duration, # Optional: Defaults to 3600 seconds (1 hour)\n",
    "    hardware_id=hardware_id # Optional: Defaults to hardware_id set in set_default_task_config or 0 (free) if not set\n",
    "):\n",
    "    print(json.dumps(result_validation, indent=2))\n",
    "else:\n",
    "    print('validation failed')"
   ]
  },
  {
   "cell_type": "markdown",
   "metadata": {},
   "source": [
    "### Validate Payment to deploy task\n",
    "\n",
    "Only use this if paid directly to contract. If used make_payment section above, ignore this section.\n",
    "\n",
    "This step will use `tx_hash` and `task_uuid` to validate the payment and then make task eligible for assigning if validation successful"
   ]
  },
  {
   "cell_type": "markdown",
   "metadata": {},
   "source": [
    "Will Delete the submit_payment code block below in final version"
   ]
  },
  {
   "cell_type": "code",
   "execution_count": null,
   "metadata": {},
   "outputs": [],
   "source": [
    "if result_validation := swan_orchestrator.validate_payment(\n",
    "    tx_hash=\"<tx_hash of payment of task_uuid to swan contract>\",\n",
    "    task_uuid=task_uuid\n",
    "):\n",
    "    print(json.dumps(result_validation, indent=2))\n",
    "else:\n",
    "    print('validation failed')"
   ]
  },
  {
   "cell_type": "markdown",
   "metadata": {},
   "source": [
    "### Renew Task (no auto-pay) (Optional)\n",
    "\n",
    "Extend `task_uuid` by `duration`. `tx_hash` of payment for extension required."
   ]
  },
  {
   "cell_type": "markdown",
   "metadata": {},
   "source": [
    "Will Delete the submit_payment code block below in final version"
   ]
  },
  {
   "cell_type": "code",
   "execution_count": null,
   "metadata": {},
   "outputs": [],
   "source": [
    "renew_task = swan_orchestrator.renew_task(\n",
    "    task_uuid=task_uuid, \n",
    "    duration=60, # Optional: Defaults to 3600 seconds (1 hour)\n",
    "    tx_hash=\"<tx_hash of payment of task_uuid to swan contract>\", # tx_hash of payment to swan contract for this task\n",
    "    hardware_id=hardware_id # Optional: Defaults to hardware_id set in set_default_task_config or 0 (free) if not set\n",
    ")\n",
    "\n",
    "if renew_task and renew_task['status'] == 'success':\n",
    "    print(f\"successfully renewed {task_uuid}\")\n",
    "else:\n",
    "    print(f\"Unable to renew {task_uuid}\")"
   ]
  },
  {
   "cell_type": "markdown",
   "metadata": {},
   "source": [
    "### terminate task (Optional)\n",
    "\n",
    "Terminate the task `task_uuid` and get a refund for remaining time"
   ]
  },
  {
   "cell_type": "code",
   "execution_count": 9,
   "metadata": {},
   "outputs": [
    {
     "name": "stdout",
     "output_type": "stream",
     "text": [
      "Terminated 531a9689-f395-484f-8ef8-2d4bc5a31e42 successfully\n"
     ]
    }
   ],
   "source": [
    "terminate_status = swan_orchestrator.terminate_task(task_uuid)\n",
    "if terminate_status['status'] == 'success':\n",
    "    print(f\"Terminated {task_uuid} successfully\")\n",
    "else:\n",
    "    print(f\"Failed to terminate {task_uuid}\")"
   ]
  },
  {
   "cell_type": "markdown",
   "metadata": {},
   "source": [
    "### claim review (Optional)\n",
    "\n",
    "Review if `task_uui` uptime is above 90% and give refund if below 90%"
   ]
  },
  {
   "cell_type": "code",
   "execution_count": null,
   "metadata": {},
   "outputs": [],
   "source": [
    "claim_review = swan_orchestrator.claim_review(task_uuid)\n",
    "if claim_review['status'] == 'success':\n",
    "    print('Succesfully refunded')\n",
    "else:\n",
    "    print('Not eligible')"
   ]
  },
  {
   "cell_type": "markdown",
   "metadata": {},
   "source": [
    "## View Deployed Task Results"
   ]
  },
  {
   "cell_type": "markdown",
   "metadata": {},
   "source": [
    "### follow up task status (optional)\n",
    "The following step is optional, shows information when waiting for task being deployed."
   ]
  },
  {
   "cell_type": "code",
   "execution_count": null,
   "metadata": {},
   "outputs": [],
   "source": [
    "# Check task info\n",
    "info = swan_orchestrator.get_deployment_info(task_uuid=task_uuid)\n",
    "print(json.dumps(info, indent=2))"
   ]
  },
  {
   "cell_type": "markdown",
   "metadata": {},
   "source": [
    "### Show result\n",
    "\n",
    "`job_real_uri` is for show the result of application you deployed.  \n",
    "You can put it into the web browser to view application."
   ]
  },
  {
   "cell_type": "code",
   "execution_count": null,
   "metadata": {},
   "outputs": [],
   "source": [
    "result_url = swan_orchestrator.get_real_url(task_uuid)\n",
    "print(result_url)"
   ]
  },
  {
   "cell_type": "markdown",
   "metadata": {},
   "source": [
    "Check the response codes of the result_url"
   ]
  },
  {
   "cell_type": "code",
   "execution_count": null,
   "metadata": {},
   "outputs": [],
   "source": [
    "import requests\n",
    "import json\n",
    "\n",
    "headers = {\n",
    "    'Content-Type': 'application/json',\n",
    "}\n",
    "\n",
    "for url in result_url:\n",
    "    response = requests.get(url, headers=headers)\n",
    "\n",
    "    try:\n",
    "        print(json.dumps(response.json(), indent=4))\n",
    "    except Exception as e:\n",
    "        print(e)\n",
    "        print(response)\n"
   ]
  }
 ],
 "metadata": {
  "kernelspec": {
   "display_name": "swanchain",
   "language": "python",
   "name": "python3"
  },
  "language_info": {
   "codemirror_mode": {
    "name": "ipython",
    "version": 3
   },
   "file_extension": ".py",
   "mimetype": "text/x-python",
   "name": "python",
   "nbconvert_exporter": "python",
   "pygments_lexer": "ipython3",
   "version": "3.10.0"
  }
 },
 "nbformat": 4,
 "nbformat_minor": 2
}
